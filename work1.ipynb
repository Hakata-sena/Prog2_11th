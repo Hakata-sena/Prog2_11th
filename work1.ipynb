{
  "nbformat": 4,
  "nbformat_minor": 0,
  "metadata": {
    "colab": {
      "provenance": [],
      "authorship_tag": "ABX9TyNvv9nrMS68xWbJ1bkfp9ct",
      "include_colab_link": true
    },
    "kernelspec": {
      "name": "python3",
      "display_name": "Python 3"
    },
    "language_info": {
      "name": "python"
    }
  },
  "cells": [
    {
      "cell_type": "markdown",
      "metadata": {
        "id": "view-in-github",
        "colab_type": "text"
      },
      "source": [
        "<a href=\"https://colab.research.google.com/github/Hakata-sena/Prog2_11th/blob/main/work1.ipynb\" target=\"_parent\"><img src=\"https://colab.research.google.com/assets/colab-badge.svg\" alt=\"Open In Colab\"/></a>"
      ]
    },
    {
      "cell_type": "code",
      "source": [
        "import pandas as pd\n",
        "import datetime\n",
        "from IPython.display import clear_output\n",
        "\n",
        "df = pd.DataFrame()\n",
        "while True:\n",
        "  dm = int(input('何月：（書くことがなければ「0」と記入）'))\n",
        "  if dm == 0:\n",
        "    break\n",
        "  dd = int(input('何日：'))\n",
        "  do = input('やること:')\n",
        "  new_row = {'date':str(dm)+'/'+str(dd),'To do':do}\n",
        "  df_new = pd.DataFrame(new_row, index=[0])\n",
        "  df = pd.concat([df,df_new], ignore_index = True)\n",
        "df"
      ],
      "metadata": {
        "id": "6Vg0Rtdv_KzV"
      },
      "execution_count": null,
      "outputs": []
    }
  ]
}